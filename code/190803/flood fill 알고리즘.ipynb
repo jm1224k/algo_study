{
 "cells": [
  {
   "cell_type": "code",
   "execution_count": 4,
   "metadata": {},
   "outputs": [
    {
     "name": "stdout",
     "output_type": "stream",
     "text": [
      "Input\n",
      "[1, 1, 1, 1, 1, 1, 1, 1]\n",
      "[1, 1, 1, 1, 1, 1, 2, 0]\n",
      "[1, 0, 0, 1, 0, 2, 1, 1]\n",
      "[1, 2, 2, 2, 2, 0, 1, 0]\n",
      "[1, 1, 1, 2, 2, 0, 1, 0]\n",
      "[1, 1, 1, 2, 2, 2, 2, 0]\n",
      "[1, 1, 1, 1, 1, 2, 1, 1]\n",
      "[2, 2, 1, 1, 1, 2, 2, 1]\n",
      "-------------------------\n",
      "output\n",
      "[1, 1, 1, 1, 1, 1, 1, 1]\n",
      "[1, 1, 1, 1, 1, 1, 3, 0]\n",
      "[1, 0, 0, 1, 0, 3, 1, 1]\n",
      "[1, 3, 3, 3, 3, 0, 1, 0]\n",
      "[1, 1, 1, 3, 3, 0, 1, 0]\n",
      "[1, 1, 1, 3, 3, 3, 3, 0]\n",
      "[1, 1, 1, 1, 1, 3, 1, 1]\n",
      "[2, 2, 1, 1, 1, 3, 3, 1]\n"
     ]
    }
   ],
   "source": [
    "\n",
    "img = [\n",
    "[1, 1, 1, 1, 1, 1, 1, 1],\n",
    "[1, 1, 1, 1, 1, 1, 2, 0],\n",
    "[1, 0, 0, 1, 0, 2, 1, 1],\n",
    "[1, 2, 2, 2, 2, 0, 1, 0],\n",
    "[1, 1, 1, 2, 2, 0, 1, 0],\n",
    "[1, 1, 1, 2, 2, 2, 2, 0],\n",
    "[1, 1, 1, 1, 1, 2, 1, 1],\n",
    "[2, 2, 1, 1, 1, 2, 2, 1],\n",
    "]\n",
    "\n",
    "\n",
    "lenr = len(img)\n",
    "lenc = len(img[0])\n",
    "\n",
    "visited = []\n",
    "\n",
    "\n",
    "def neighbours(r, c):\n",
    "    \"\"\"Calculates the neighbours of a given cell\"\"\"\n",
    "    return [[r+1, c], [r, c+1], [r-1, c], [r, c-1],\n",
    "            [r+1, c+1], [r+1, c-1], [r-1, c-1], [r-1, c+1]]\n",
    "\n",
    "\n",
    "def flood_fill(r, c, color, replace_color):\n",
    "    \"\"\"Flood fills the given segment starting from given index\"\"\"\n",
    "    if r < 0 or r >= lenr:\n",
    "        return\n",
    "\n",
    "    if c < 0 or c >= lenc:\n",
    "        return\n",
    "\n",
    "    if img[r][c] != color:\n",
    "        return\n",
    "\n",
    "    img[r][c] = replace_color\n",
    "\n",
    "    visited.append([r, c])\n",
    "\n",
    "    moves = neighbours(r, c)\n",
    "\n",
    "    for move in moves:\n",
    "        if move not in visited:\n",
    "            flood_fill(move[0], move[1], color, replace_color)\n",
    "\n",
    "\n",
    "def flood_img():\n",
    "    print(\"Input\")\n",
    "\n",
    "    for i in img:print (i)\n",
    "\n",
    "    replace_point = (4, 4)\n",
    "    flood_fill(*replace_point, color=2, replace_color=3)\n",
    "\n",
    "    print (\"-\" * 25)\n",
    "    print (\"output\")\n",
    "    for i in img:print (i)\n",
    "\n",
    "\n",
    "flood_img()\n"
   ]
  },
  {
   "cell_type": "code",
   "execution_count": null,
   "metadata": {},
   "outputs": [],
   "source": []
  }
 ],
 "metadata": {
  "kernelspec": {
   "display_name": "Python 3",
   "language": "python",
   "name": "python3"
  },
  "language_info": {
   "codemirror_mode": {
    "name": "ipython",
    "version": 3
   },
   "file_extension": ".py",
   "mimetype": "text/x-python",
   "name": "python",
   "nbconvert_exporter": "python",
   "pygments_lexer": "ipython3",
   "version": "3.6.5"
  }
 },
 "nbformat": 4,
 "nbformat_minor": 2
}
